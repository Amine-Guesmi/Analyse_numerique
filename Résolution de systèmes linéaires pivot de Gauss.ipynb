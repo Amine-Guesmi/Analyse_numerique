{
 "cells": [
  {
   "cell_type": "markdown",
   "metadata": {},
   "source": [
    "# Résolution de systèmes linéaires : pivot de Gauss"
   ]
  },
  {
   "cell_type": "code",
   "execution_count": 3,
   "metadata": {},
   "outputs": [],
   "source": [
    "import numpy as np"
   ]
  },
  {
   "cell_type": "code",
   "execution_count": 4,
   "metadata": {},
   "outputs": [],
   "source": [
    "#resolution du systéme linéaire AX = B\n",
    "A = np.array([[1, 1, 1, 1], [2,2,5,3], [4,6,8,0], [3,3,9,8]])\n",
    "B = np.array([1,2,5,0])"
   ]
  },
  {
   "cell_type": "code",
   "execution_count": 5,
   "metadata": {},
   "outputs": [],
   "source": [
    "#fonction Gauss\n",
    "def Gauss(A,B):\n",
    "    n, m = A.shape[0], A.shape[1] #initializer nb lignes (n) et nb colonnes (m)\n",
    "    Aw = np.zeros([n, m+1]) #intializer une matrice des zero a nombre de collones m + 1 \n",
    "    #affecter dans la matrice Aw dans l' intervalle [0 ,m] la matrice donnée A et un seul vecteur vertical dans la position m+1\n",
    "    Aw[:, 0:m] =A \n",
    "    Aw[:,m] = B\n",
    "    #initializer le vecteur solution\n",
    "    sol = np.zeros(n)\n",
    "    for i in np.arange(0, n-1):\n",
    "        pivot_max  = Aw[i,i]\n",
    "        index_max = i\n",
    "        for k in np.arange(i+1, n):\n",
    "            if abs(Aw[k,k]) > abs(pivot_max):\n",
    "                pivot_max = Aw[k,k]\n",
    "                index_max = k\n",
    "        #permutation\n",
    "        copie_Awi = np.copy(Aw[i,:])\n",
    "        Aw[i,:] = Aw[index_max,:]\n",
    "        Aw[index_max,:] =copie_Awi \n",
    "\n",
    "        for k in np.arange(i+1, n):\n",
    "            Aw[k,:] = Aw[k,:] - Aw[k,i] / Aw[i,i] * Aw[i,:]\n",
    "\n",
    "    sol[n-1] = Aw[n-1, n] / Aw[n-1, n-1]\n",
    "    for i in np.arange(n-2,-1,-1):\n",
    "        sol[i] = (Aw[i, n] - np.sum(Aw[i, i+1:n]*sol[i+1:n])) / Aw[i,i]\n",
    "    return(sol)"
   ]
  },
  {
   "cell_type": "code",
   "execution_count": 6,
   "metadata": {},
   "outputs": [
    {
     "name": "stdout",
     "output_type": "stream",
     "text": [
      "les solutions de notre systéme est :  [ 3.83333333 -2.16666667  0.33333333 -1.        ]\n",
      "il ya  :  4  solutions\n"
     ]
    }
   ],
   "source": [
    "#executer notre function Gauss\n",
    "solutions = Gauss(A,B)\n",
    "print(\"les solutions de notre systéme est : \",solutions)\n",
    "print('il ya  : ', len(solutions),' solutions')"
   ]
  },
  {
   "cell_type": "code",
   "execution_count": null,
   "metadata": {},
   "outputs": [],
   "source": []
  }
 ],
 "metadata": {
  "kernelspec": {
   "display_name": "Python 3",
   "language": "python",
   "name": "python3"
  },
  "language_info": {
   "codemirror_mode": {
    "name": "ipython",
    "version": 3
   },
   "file_extension": ".py",
   "mimetype": "text/x-python",
   "name": "python",
   "nbconvert_exporter": "python",
   "pygments_lexer": "ipython3",
   "version": "3.7.6"
  }
 },
 "nbformat": 4,
 "nbformat_minor": 4
}
